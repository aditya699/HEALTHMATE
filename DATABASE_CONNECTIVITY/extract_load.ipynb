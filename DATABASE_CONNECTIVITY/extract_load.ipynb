{
 "cells": [
  {
   "cell_type": "code",
   "execution_count": 1,
   "metadata": {},
   "outputs": [],
   "source": [
    "# id -PEZfbpTlWWGLBiLLGGRiBaKK\n",
    "#secert- eY0ZPBbt4zPqfrFpyr4fQ29q9lyaitNMb_sGQr2.9XmCI1ezZ_GXmimb-IjKwWBC4PYW0nJkvGdDTbA1X,R-WRuiMiW2U073fGNuTcdCEXU,IP,0oz+f_Rw0gWo5nNP2\n"
   ]
  },
  {
   "cell_type": "code",
   "execution_count": 3,
   "metadata": {},
   "outputs": [
    {
     "name": "stdout",
     "output_type": "stream",
     "text": [
      "3.25.0\n"
     ]
    }
   ],
   "source": [
    "import cassandra\n",
    "print (cassandra.__version__)"
   ]
  },
  {
   "cell_type": "code",
   "execution_count": 4,
   "metadata": {},
   "outputs": [
    {
     "name": "stdout",
     "output_type": "stream",
     "text": [
      "4.0.0.6816\n"
     ]
    }
   ],
   "source": [
    "from cassandra.cluster import Cluster\n",
    "from cassandra.auth import PlainTextAuthProvider\n",
    "\n",
    "cloud_config= {\n",
    "        'secure_connect_bundle': 'C:/Users/aditya/Downloads/secure-connect-task-1.zip'\n",
    "}\n",
    "auth_provider = PlainTextAuthProvider('PEZfbpTlWWGLBiLLGGRiBaKK', 'eY0ZPBbt4zPqfrFpyr4fQ29q9lyaitNMb_sGQr2.9XmCI1ezZ_GXmimb-IjKwWBC4PYW0nJkvGdDTbA1X,R-WRuiMiW2U073fGNuTcdCEXU,IP,0oz+f_Rw0gWo5nNP2')\n",
    "cluster = Cluster(cloud=cloud_config, auth_provider=auth_provider,control_connection_timeout=200,idle_heartbeat_interval=300,schema_event_refresh_window=200,topology_event_refresh_window=100,connect_timeout=500)\n",
    "session = cluster.connect()\n",
    "\n",
    "row = session.execute(\"select release_version from system.local\").one()\n",
    "if row:\n",
    "    print(row[0])\n",
    "else:\n",
    "    print(\"An error occurred.\")"
   ]
  },
  {
   "cell_type": "code",
   "execution_count": 24,
   "metadata": {},
   "outputs": [],
   "source": [
    "x=session.execute('select * from aditya.xyz')\n",
    "m=[]\n",
    "a=[]\n",
    "b=[]\n",
    "c=[]\n",
    "d=[]\n",
    "e=[]\n",
    "f=[]\n",
    "g=[]\n",
    "for i in x:\n",
    "    m.append(i[0])\n",
    "    a.append(i[1])\n",
    "    b.append(i[2])\n",
    "    c.append(i[3])\n",
    "    d.append(i[4])\n",
    "    e.append(i[5])\n",
    "    f.append(i[6])\n",
    "    g.append(i[7])\n",
    "    # m.append(i[7])"
   ]
  },
  {
   "cell_type": "code",
   "execution_count": null,
   "metadata": {},
   "outputs": [],
   "source": []
  },
  {
   "cell_type": "code",
   "execution_count": 25,
   "metadata": {},
   "outputs": [
    {
     "data": {
      "text/html": [
       "<div>\n",
       "<style scoped>\n",
       "    .dataframe tbody tr th:only-of-type {\n",
       "        vertical-align: middle;\n",
       "    }\n",
       "\n",
       "    .dataframe tbody tr th {\n",
       "        vertical-align: top;\n",
       "    }\n",
       "\n",
       "    .dataframe thead th {\n",
       "        text-align: right;\n",
       "    }\n",
       "</style>\n",
       "<table border=\"1\" class=\"dataframe\">\n",
       "  <thead>\n",
       "    <tr style=\"text-align: right;\">\n",
       "      <th></th>\n",
       "      <th>sno</th>\n",
       "      <th>age</th>\n",
       "      <th>sex</th>\n",
       "      <th>bmi</th>\n",
       "      <th>children</th>\n",
       "      <th>smoker</th>\n",
       "      <th>region</th>\n",
       "      <th>expense</th>\n",
       "    </tr>\n",
       "  </thead>\n",
       "  <tbody>\n",
       "    <tr>\n",
       "      <th>0</th>\n",
       "      <td>593</td>\n",
       "      <td>20</td>\n",
       "      <td>male</td>\n",
       "      <td>31.1</td>\n",
       "      <td>2</td>\n",
       "      <td>no</td>\n",
       "      <td>southeast</td>\n",
       "      <td>2566.47</td>\n",
       "    </tr>\n",
       "    <tr>\n",
       "      <th>1</th>\n",
       "      <td>536</td>\n",
       "      <td>38</td>\n",
       "      <td>male</td>\n",
       "      <td>28</td>\n",
       "      <td>1</td>\n",
       "      <td>no</td>\n",
       "      <td>northeast</td>\n",
       "      <td>6067.13</td>\n",
       "    </tr>\n",
       "    <tr>\n",
       "      <th>2</th>\n",
       "      <td>602</td>\n",
       "      <td>51</td>\n",
       "      <td>male</td>\n",
       "      <td>31.6</td>\n",
       "      <td>0</td>\n",
       "      <td>no</td>\n",
       "      <td>northwest</td>\n",
       "      <td>9174.14</td>\n",
       "    </tr>\n",
       "    <tr>\n",
       "      <th>3</th>\n",
       "      <td>924</td>\n",
       "      <td>34</td>\n",
       "      <td>male</td>\n",
       "      <td>35.8</td>\n",
       "      <td>0</td>\n",
       "      <td>no</td>\n",
       "      <td>northwest</td>\n",
       "      <td>4320.41</td>\n",
       "    </tr>\n",
       "    <tr>\n",
       "      <th>4</th>\n",
       "      <td>802</td>\n",
       "      <td>64</td>\n",
       "      <td>female</td>\n",
       "      <td>36</td>\n",
       "      <td>0</td>\n",
       "      <td>no</td>\n",
       "      <td>southeast</td>\n",
       "      <td>14313.85</td>\n",
       "    </tr>\n",
       "  </tbody>\n",
       "</table>\n",
       "</div>"
      ],
      "text/plain": [
       "   sno  age     sex   bmi  children smoker     region   expense\n",
       "0  593   20    male  31.1         2     no  southeast   2566.47\n",
       "1  536   38    male    28         1     no  northeast   6067.13\n",
       "2  602   51    male  31.6         0     no  northwest   9174.14\n",
       "3  924   34    male  35.8         0     no  northwest   4320.41\n",
       "4  802   64  female    36         0     no  southeast  14313.85"
      ]
     },
     "execution_count": 25,
     "metadata": {},
     "output_type": "execute_result"
    }
   ],
   "source": [
    "import pandas as pd\n",
    "\n",
    "data=pd.DataFrame({'sno':m,'age':a,'sex':b,'bmi':c,'children':d,'smoker':e,'region':f,'expense':g})\n",
    "data.head()"
   ]
  },
  {
   "cell_type": "code",
   "execution_count": 26,
   "metadata": {},
   "outputs": [],
   "source": [
    "import logging as lg \n",
    "import os\n",
    "# os.mkdir(\"logging\")"
   ]
  },
  {
   "cell_type": "code",
   "execution_count": 6,
   "metadata": {},
   "outputs": [],
   "source": [
    "lg.basicConfig(filename='test.log' , level = lg.INFO )"
   ]
  },
  {
   "cell_type": "code",
   "execution_count": 7,
   "metadata": {},
   "outputs": [],
   "source": [
    "lg.info(\"CLOUD ACCOUNT CREATED\")\n",
    "lg.info(\"CONNECTIVITY ESTABLISED USING A GCP CLUSTER\")\n",
    "lg.info(\"DATA LOADED TO CLOUD ACCOUNT\")\n",
    "lg.info(\"DATA LOADED INTO LOCAL ACCOUNT\")"
   ]
  },
  {
   "cell_type": "code",
   "execution_count": 8,
   "metadata": {},
   "outputs": [
    {
     "data": {
      "text/plain": [
       "'c:\\\\Users\\\\aditya\\\\Desktop\\\\LifePY\\\\INTERNSHIP_TASK\\\\DATABASE_CONNECTIVITY'"
      ]
     },
     "execution_count": 8,
     "metadata": {},
     "output_type": "execute_result"
    }
   ],
   "source": [
    "pwd()"
   ]
  },
  {
   "cell_type": "code",
   "execution_count": 27,
   "metadata": {},
   "outputs": [
    {
     "data": {
      "text/html": [
       "<div>\n",
       "<style scoped>\n",
       "    .dataframe tbody tr th:only-of-type {\n",
       "        vertical-align: middle;\n",
       "    }\n",
       "\n",
       "    .dataframe tbody tr th {\n",
       "        vertical-align: top;\n",
       "    }\n",
       "\n",
       "    .dataframe thead th {\n",
       "        text-align: right;\n",
       "    }\n",
       "</style>\n",
       "<table border=\"1\" class=\"dataframe\">\n",
       "  <thead>\n",
       "    <tr style=\"text-align: right;\">\n",
       "      <th></th>\n",
       "      <th>sno</th>\n",
       "      <th>age</th>\n",
       "      <th>sex</th>\n",
       "      <th>bmi</th>\n",
       "      <th>children</th>\n",
       "      <th>smoker</th>\n",
       "      <th>region</th>\n",
       "      <th>expense</th>\n",
       "    </tr>\n",
       "  </thead>\n",
       "  <tbody>\n",
       "    <tr>\n",
       "      <th>0</th>\n",
       "      <td>593</td>\n",
       "      <td>20</td>\n",
       "      <td>male</td>\n",
       "      <td>31.1</td>\n",
       "      <td>2</td>\n",
       "      <td>no</td>\n",
       "      <td>southeast</td>\n",
       "      <td>2566.47</td>\n",
       "    </tr>\n",
       "    <tr>\n",
       "      <th>1</th>\n",
       "      <td>536</td>\n",
       "      <td>38</td>\n",
       "      <td>male</td>\n",
       "      <td>28</td>\n",
       "      <td>1</td>\n",
       "      <td>no</td>\n",
       "      <td>northeast</td>\n",
       "      <td>6067.13</td>\n",
       "    </tr>\n",
       "    <tr>\n",
       "      <th>2</th>\n",
       "      <td>602</td>\n",
       "      <td>51</td>\n",
       "      <td>male</td>\n",
       "      <td>31.6</td>\n",
       "      <td>0</td>\n",
       "      <td>no</td>\n",
       "      <td>northwest</td>\n",
       "      <td>9174.14</td>\n",
       "    </tr>\n",
       "    <tr>\n",
       "      <th>3</th>\n",
       "      <td>924</td>\n",
       "      <td>34</td>\n",
       "      <td>male</td>\n",
       "      <td>35.8</td>\n",
       "      <td>0</td>\n",
       "      <td>no</td>\n",
       "      <td>northwest</td>\n",
       "      <td>4320.41</td>\n",
       "    </tr>\n",
       "    <tr>\n",
       "      <th>4</th>\n",
       "      <td>802</td>\n",
       "      <td>64</td>\n",
       "      <td>female</td>\n",
       "      <td>36</td>\n",
       "      <td>0</td>\n",
       "      <td>no</td>\n",
       "      <td>southeast</td>\n",
       "      <td>14313.85</td>\n",
       "    </tr>\n",
       "  </tbody>\n",
       "</table>\n",
       "</div>"
      ],
      "text/plain": [
       "   sno  age     sex   bmi  children smoker     region   expense\n",
       "0  593   20    male  31.1         2     no  southeast   2566.47\n",
       "1  536   38    male    28         1     no  northeast   6067.13\n",
       "2  602   51    male  31.6         0     no  northwest   9174.14\n",
       "3  924   34    male  35.8         0     no  northwest   4320.41\n",
       "4  802   64  female    36         0     no  southeast  14313.85"
      ]
     },
     "execution_count": 27,
     "metadata": {},
     "output_type": "execute_result"
    }
   ],
   "source": [
    "data.head()"
   ]
  },
  {
   "cell_type": "code",
   "execution_count": 28,
   "metadata": {},
   "outputs": [],
   "source": [
    "data.to_csv(\"data.csv\")"
   ]
  },
  {
   "cell_type": "code",
   "execution_count": 13,
   "metadata": {},
   "outputs": [],
   "source": [
    "lg.info(\"ETL WAS COMPLTED AND LOADED ,DATA WAS SMALL IS SIZE SO STORINTG IT IN LOCAL\")"
   ]
  },
  {
   "cell_type": "code",
   "execution_count": null,
   "metadata": {},
   "outputs": [],
   "source": []
  }
 ],
 "metadata": {
  "interpreter": {
   "hash": "f23a56816b51fb49fbdb6440606f760e06998818787ad28ee60aedc18609174e"
  },
  "kernelspec": {
   "display_name": "Python 3.6.13 64-bit ('aibot': conda)",
   "language": "python",
   "name": "python3"
  },
  "language_info": {
   "codemirror_mode": {
    "name": "ipython",
    "version": 3
   },
   "file_extension": ".py",
   "mimetype": "text/x-python",
   "name": "python",
   "nbconvert_exporter": "python",
   "pygments_lexer": "ipython3",
   "version": "3.6.8"
  },
  "orig_nbformat": 4
 },
 "nbformat": 4,
 "nbformat_minor": 2
}
